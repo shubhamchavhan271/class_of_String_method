{
 "cells": [
  {
   "cell_type": "markdown",
   "id": "96d6b1d3",
   "metadata": {},
   "source": [
    "shubham chavhan "
   ]
  },
  {
   "cell_type": "markdown",
   "id": "6f71cf4c",
   "metadata": {},
   "source": [
    "# Classes in python:"
   ]
  },
  {
   "cell_type": "markdown",
   "id": "3b953c77",
   "metadata": {},
   "source": [
    "* Class of string methods"
   ]
  },
  {
   "cell_type": "code",
   "execution_count": 15,
   "id": "95e5c53b",
   "metadata": {},
   "outputs": [
    {
     "name": "stdout",
     "output_type": "stream",
     "text": [
      "The given string is :  shubham ChAvhan\n",
      "15\n",
      "😀😀😀😀😀😀😀😀shubham ChAvhan😀😀😀😀😀😀😀😀😀\n",
      "SHUBHAM CHAVHAN\n",
      "Shubham chavhan\n",
      "SHUBHAM cHaVHAN\n"
     ]
    }
   ],
   "source": [
    "class string_methods:\n",
    "    \"This class is used for string methods\"\n",
    "    def __init__(self, string, element, character):\n",
    "        self.string = string\n",
    "        self.element = element\n",
    "        self.character = character\n",
    "        \n",
    "    def length_of_string(self):\n",
    "        \"This function is used to get length of string\"\n",
    "        try:\n",
    "            x = len(self.string)\n",
    "            print(x)\n",
    "        except Exception as e:\n",
    "            print(e)  \n",
    "        \n",
    "    def string_to_centre(self):\n",
    "        \"This function is used to centralize the string\"\n",
    "        try:\n",
    "            x = self.string.center(self.element, self.character)\n",
    "            print(x)\n",
    "        except Exception as e:\n",
    "            print(e)\n",
    "    \n",
    "    def upper_string(self):\n",
    "        \"This function convert string to upper case.\"\n",
    "        try:\n",
    "            x = self.string.upper()\n",
    "            print(x)\n",
    "        except Exception as e:\n",
    "            print(e)\n",
    "        \n",
    "    def captitalize(self):\n",
    "        \"Return a capitalized version of the string\"\n",
    "        try:\n",
    "            print(self.string.capitalize())\n",
    "        except Exception as e:\n",
    "            print(e)\n",
    "    def swapcase(self):\n",
    "        \"Convert uppercase characters to lowercase and lowercase characters to uppercase\"\n",
    "        try:\n",
    "            print(self.string.swapcase())\n",
    "        except Exception as e:\n",
    "            print(e)\n",
    "    \n",
    "        \n",
    "        \n",
    "s = string_methods(\"shubham ChAvhan\", 32, '\\U0001f600')\n",
    "print(\"The given string is : \", s.string)\n",
    "s.length_of_string()\n",
    "s.string_to_centre()\n",
    "s.upper_string()\n",
    "s.captitalize()\n",
    "s.swapcase()\n",
    "        "
   ]
  }
 ],
 "metadata": {
  "kernelspec": {
   "display_name": "Python 3 (ipykernel)",
   "language": "python",
   "name": "python3"
  },
  "language_info": {
   "codemirror_mode": {
    "name": "ipython",
    "version": 3
   },
   "file_extension": ".py",
   "mimetype": "text/x-python",
   "name": "python",
   "nbconvert_exporter": "python",
   "pygments_lexer": "ipython3",
   "version": "3.9.12"
  }
 },
 "nbformat": 4,
 "nbformat_minor": 5
}
